{
 "cells": [
  {
   "cell_type": "code",
   "execution_count": 7,
   "metadata": {},
   "outputs": [],
   "source": [
    "import pyviz3d.visualizer_iseg as viz\n",
    "import numpy as np\n",
    "import torch"
   ]
  },
  {
   "cell_type": "code",
   "execution_count": 8,
   "metadata": {},
   "outputs": [],
   "source": [
    "v = viz.Visualizer(position=[5, 5, 1])"
   ]
  },
  {
   "cell_type": "markdown",
   "metadata": {},
   "source": [
    "pointcloud"
   ]
  },
  {
   "cell_type": "code",
   "execution_count": 9,
   "metadata": {},
   "outputs": [
    {
     "data": {
      "text/plain": [
       "{'coord': array([[0.5324214 , 4.5172734 , 0.26304942],\n",
       "        [0.53404164, 4.552089  , 0.262302  ],\n",
       "        [0.544779  , 4.4811263 , 0.17396316],\n",
       "        ...,\n",
       "        [7.531826  , 4.8856416 , 2.5779479 ],\n",
       "        [7.5255036 , 4.919484  , 2.6109233 ],\n",
       "        [7.5323153 , 4.8880706 , 2.6260881 ]], dtype=float32),\n",
       " 'color': array([[101., 107.,  90.],\n",
       "        [ 88.,  83.,  78.],\n",
       "        [ 39.,  39.,  35.],\n",
       "        ...,\n",
       "        [242., 212., 144.],\n",
       "        [175., 161., 127.],\n",
       "        [179., 164., 128.]], dtype=float32),\n",
       " 'scene_id': 'scene0000_00',\n",
       " 'normal': array([[ 0.8616817 , -0.02587385, -0.5067754 ],\n",
       "        [ 0.9884297 ,  0.14236335, -0.05226134],\n",
       "        [ 0.9479952 ,  0.22194722, -0.22811987],\n",
       "        ...,\n",
       "        [-0.95294386, -0.3023411 ,  0.02204313],\n",
       "        [-0.9179578 , -0.3956318 ,  0.02872125],\n",
       "        [-0.959393  , -0.2799995 ,  0.03406031]], dtype=float32),\n",
       " 'semantic_gt20': array([13, 13, 13, ...,  0,  0,  0]),\n",
       " 'semantic_gt200': array([18, 18, 18, ...,  0,  0,  0]),\n",
       " 'instance_gt': array([ 5,  5,  5, ..., 23, 23, 23]),\n",
       " 'superpoints': array([ 54,  54,  54, ..., 666, 666, 666])}"
      ]
     },
     "execution_count": 9,
     "metadata": {},
     "output_type": "execute_result"
    }
   ],
   "source": [
    "scene = torch.load(\"/data/shared_workspace/yuzijian/datasets/ScanNet_v2/scannetv2_pointclouds/train/scene0000_00.pth\")\n",
    "scene"
   ]
  },
  {
   "cell_type": "code",
   "execution_count": 10,
   "metadata": {},
   "outputs": [],
   "source": [
    "v.add_points('scene0000_00;pcd', scene[\"coord\"], scene[\"color\"], scene[\"normal\"], point_size=30, visible=True)"
   ]
  },
  {
   "cell_type": "markdown",
   "metadata": {},
   "source": [
    "mesh"
   ]
  },
  {
   "cell_type": "code",
   "execution_count": 11,
   "metadata": {},
   "outputs": [],
   "source": [
    "v.add_mesh('scene0000_00;mesh',\n",
    "        path='/data/shared_workspace/yuzijian/datasets/ScanNet_v2/unzip/scans/scene0000_00/scene0000_00_vh_clean_2.ply',\n",
    "        color=np.array([255, 0, 0]))"
   ]
  },
  {
   "cell_type": "code",
   "execution_count": 12,
   "metadata": {},
   "outputs": [
    {
     "name": "stdout",
     "output_type": "stream",
     "text": [
      "\n",
      "************************************************************************\n",
      "1) Start local server:\n",
      "    cd /data/shared_workspace/yuzijian/ws/PyViz3D/examples/example_meshes; python -m http.server 6008\n",
      "2) Open in browser:\n",
      "    http://localhost:6008\n",
      "************************************************************************\n"
     ]
    }
   ],
   "source": [
    "v.save('example_meshes')"
   ]
  }
 ],
 "metadata": {
  "kernelspec": {
   "display_name": "iseg3d",
   "language": "python",
   "name": "python3"
  },
  "language_info": {
   "codemirror_mode": {
    "name": "ipython",
    "version": 3
   },
   "file_extension": ".py",
   "mimetype": "text/x-python",
   "name": "python",
   "nbconvert_exporter": "python",
   "pygments_lexer": "ipython3",
   "version": "3.8.16"
  }
 },
 "nbformat": 4,
 "nbformat_minor": 2
}
